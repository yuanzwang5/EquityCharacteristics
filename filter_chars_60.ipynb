{
 "cells": [
  {
   "cell_type": "code",
   "execution_count": 1,
   "metadata": {},
   "outputs": [],
   "source": [
    "import pandas as pd\n",
    "import numpy as np\n",
    "import os\n",
    "import math\n",
    "import matplotlib.pyplot as plt\n",
    "from scipy import stats\n",
    "from tqdm import tqdm\n",
    "import pyarrow.feather as pf\n",
    "import warnings\n",
    "warnings.simplefilter(\"ignore\")"
   ]
  },
  {
   "cell_type": "code",
   "execution_count": null,
   "metadata": {},
   "outputs": [],
   "source": [
    "if \"test_chars\" not in os.listdir():\n",
    "    os.mkdir(\"test_chars\")\n",
    "\n",
    "if \"test_rank_no_impute\" not in os.listdir():\n",
    "    os.mkdir(\"test_rank_no_impute\")"
   ]
  },
  {
   "cell_type": "code",
   "execution_count": 3,
   "metadata": {},
   "outputs": [
    {
     "name": "stdout",
     "output_type": "stream",
     "text": [
      "(2983327, 115)\n",
      "(2983327, 113)\n",
      "(2983327, 114)\n",
      "(2983327, 115)\n"
     ]
    }
   ],
   "source": [
    "char = pf.read_feather(\"chars/chars_rank_imputed.feather\")\n",
    "print(char.shape)\n",
    "\n",
    "char_raw_no_impute = pf.read_feather(\"chars/chars_raw_no_impute.feather\")\n",
    "print(char_raw_no_impute.shape)\n",
    "\n",
    "char_raw_imputed = pf.read_feather(\"chars/chars_raw_imputed.feather\")\n",
    "print(char_raw_imputed.shape)\n",
    "\n",
    "char_rank_no_impute = pf.read_feather(\"chars/chars_rank_no_impute.feather\")\n",
    "print(char_rank_no_impute.shape)"
   ]
  },
  {
   "cell_type": "code",
   "execution_count": 6,
   "metadata": {},
   "outputs": [
    {
     "data": {
      "text/plain": [
       "array(['gvkey', 'permno', 'ticker', 'conm', 'comnam', 'sic', 'ret',\n",
       "       'exchcd', 'shrcd', 'prc', 'shrout', 'date', 'lag_me',\n",
       "       'rank_mom36m', 'rank_maxret', 'rank_rdm', 'rank_pm',\n",
       "       'rank_secured', 'rank_std_turn', 'rank_agr', 'rank_roavol',\n",
       "       'rank_hire', 'rank_pchgm_pchsale', 'rank_bm', 'rank_age',\n",
       "       'rank_chempia', 'rank_mom6m', 'rank_rvar_mean', 'rank_baspread',\n",
       "       'rank_pchsaleinv', 'rank_indmom', 'rank_chmom', 'rank_saleinv',\n",
       "       'rank_invest', 'rank_rvar_ff3', 'rank_cfp', 'rank_cashdebt',\n",
       "       'rank_sue', 'rank_sgr', 'rank_chtx', 'rank_pchsale_pchrect',\n",
       "       'rank_bm_ia', 'rank_salerec', 'rank_absacc', 'rank_ato', 'rank_tb',\n",
       "       'rank_adm', 'rank_beta', 'rank_chatoia', 'rank_cinvest',\n",
       "       'rank_turn', 'rank_pchcapx_ia', 'rank_convind', 'rank_cashpr',\n",
       "       'rank_dy', 'rank_lgr', 'rank_securedind', 'rank_chinv',\n",
       "       'rank_salecash', 'rank_herf', 'rank_gma', 'rank_roe', 'rank_ep',\n",
       "       'rank_rna', 'rank_stdacc', 'rank_pchquick', 'rank_pchsale_pchinvt',\n",
       "       'rank_roa', 'rank_abr', 'rank_sp', 'rank_realestate', 'rank_divi',\n",
       "       'rank_ni', 'rank_grltnoa', 'rank_rvar_capm', 'rank_acc',\n",
       "       'rank_alm', 'rank_op', 'rank_stdcf', 'rank_pctacc', 'rank_re',\n",
       "       'rank_rd_sale', 'rank_currat', 'rank_std_dolvol', 'rank_tang',\n",
       "       'rank_pchcurrat', 'rank_dolvol', 'rank_rd', 'rank_seas1a',\n",
       "       'rank_depr', 'rank_roic', 'rank_mom1m', 'rank_lev', 'rank_cash',\n",
       "       'rank_rsup', 'rank_egr', 'rank_pchsale_pchxsga', 'rank_chpmia',\n",
       "       'rank_me', 'rank_sin', 'rank_chcsho', 'rank_me_ia', 'rank_noa',\n",
       "       'rank_mom12m', 'rank_nincr', 'rank_zerotrade', 'rank_cfp_ia',\n",
       "       'rank_mom60m', 'rank_ill', 'rank_divo', 'rank_pchdepr',\n",
       "       'rank_grcapx', 'rank_pscore', 'rank_quick', 'log_me'], dtype=object)"
      ]
     },
     "execution_count": 6,
     "metadata": {},
     "output_type": "execute_result"
    }
   ],
   "source": [
    "char.columns.values"
   ]
  },
  {
   "cell_type": "code",
   "execution_count": 9,
   "metadata": {},
   "outputs": [],
   "source": [
    "# char_list = ['maxret', 'grltnoa', 'pchcurrat', 'abr', 'pm', 'pchsale_pchinvt',\n",
    "#        'salecash', 'herf', 'cashdebt', 'sp', 'std_turn', 'rdm', 'roic',\n",
    "#        'chinv', 'adm', 'acc', 'me', 'tang', 'pchgm_pchsale', 'absacc',\n",
    "#        'pchsale_pchrect', 'rvar_ff3', 'tb', 'chempia', 'mom1m', 'invest',\n",
    "#        'roe', 'convind', 'std_dolvol', 'op', 'cfp_ia', 'seas1a',\n",
    "#        'secured', 'chpmia', 'pscore', 'quick', 'baspread', 'mom6m',\n",
    "#        'pctacc', 'rd', 'dy', 'realestate', 'chatoia', 're', 'agr', 'divi',\n",
    "#        'ni', 'rna', 'nincr', 'chcsho', 'indmom', 'egr', 'salerec', 'roa',\n",
    "#        'cinvest', 'pchdepr', 'gma', 'securedind', 'currat', 'divo', 'cfp',\n",
    "#        'ato', 'cashpr', 'ill', 'beta', 'roavol', 'turn', 'grcapx',\n",
    "#        'pchquick', 'ep', 'me_ia', 'zerotrade', 'rvar_mean', 'depr',\n",
    "#        'pchsaleinv', 'hire', 'stdcf', 'chtx', 'rd_sale', 'saleinv',\n",
    "#        'rsup', 'rvar_capm', 'bm_ia', 'mom36m', 'pchsale_pchxsga', 'alm',\n",
    "#        'mom12m', 'pchcapx_ia', 'sgr', 'sue', 'lev', 'age', 'mom60m', 'bm',\n",
    "#        'sin', 'cash', 'dolvol', 'lgr', 'noa', 'stdacc', 'chmom']\n",
    "char_list = ['cinvest', 'rvar_capm', 'mom36m', 'zerotrade', 'rna', 'chtx', 'pm',\n",
    "       'depr', 'cash', 'me_ia', 'adm', 'bm_ia', 'cashdebt',\n",
    "       'mom12m', 'baspread', 'sp', 'mom1m', 'rvar_ff3', 'ep', 'dy', 're',\n",
    "       'nincr', 'rdm', 'rsup', 'lgr', 'chpmia', 'std_dolvol', 'rd_sale',\n",
    "       'beta', 'rvar_mean', 'mom60m', 'chcsho', 'roa', 'acc', 'ato',\n",
    "       'sue', 'op', 'alm', 'noa', 'mom6m', 'me', 'cfp', 'pscore',\n",
    "       'seas1a', 'roe', 'maxret', 'std_turn', 'sgr', 'grltnoa', 'gma',\n",
    "       'ni', 'dolvol', 'bm', 'pctacc', 'herf', 'lev', 'agr', 'ill', 'abr',\n",
    "       'hire', 'turn']\n",
    "rank_columns = [f\"rank_{col}\" for col in char_list]\n",
    "\n",
    "subplot_x = math.ceil(len(char_list) / 5)"
   ]
  },
  {
   "cell_type": "code",
   "execution_count": 10,
   "metadata": {},
   "outputs": [],
   "source": [
    "df_raw_no_impute = char_raw_no_impute[['gvkey', 'permno', 'sic', 'ret', 'exchcd', 'shrcd', 'ticker', 'conm', 'comnam', 'prc', 'shrout'] + char_list + ['date']]\n",
    "df_raw_no_impute.to_feather(\"chars60_raw_no_impute.feather\")"
   ]
  },
  {
   "cell_type": "code",
   "execution_count": 11,
   "metadata": {},
   "outputs": [],
   "source": [
    "df_raw_imputed = char_raw_imputed[['gvkey', 'permno', 'sic', 'ret', 'exchcd', 'shrcd', 'ticker', 'conm', 'comnam', 'prc', 'shrout'] + char_list + ['date','ffi49']]\n",
    "df_raw_imputed.to_feather(\"chars60_raw_imputed.feather\")"
   ]
  },
  {
   "cell_type": "code",
   "execution_count": 12,
   "metadata": {},
   "outputs": [],
   "source": [
    "df_rank_no_impute = char_rank_no_impute[['gvkey', 'permno', 'sic', 'ret', 'exchcd', 'shrcd', 'date', 'lag_me', 'ticker', 'conm', 'comnam', 'prc', 'shrout'] + rank_columns + ['log_me']]\n",
    "df_rank_no_impute.to_feather(\"chars60_rank_no_impute.feather\")"
   ]
  },
  {
   "cell_type": "code",
   "execution_count": 13,
   "metadata": {},
   "outputs": [],
   "source": [
    "df_rank_imputed = char[['gvkey', 'permno', 'sic', 'ret', 'exchcd', 'shrcd', 'date', 'lag_me', 'ticker', 'conm', 'comnam', 'prc', 'shrout'] + rank_columns + ['log_me']]\n",
    "df_rank_imputed.to_feather(\"chars60_rank_imputed.feather\")"
   ]
  },
  {
   "cell_type": "code",
   "execution_count": 40,
   "metadata": {},
   "outputs": [
    {
     "data": {
      "text/plain": [
       "array(['gvkey', 'permno', 'sic', 'ret', 'exchcd', 'shrcd', 'date',\n",
       "       'lag_me', 'ticker', 'conm', 'comnam', 'prc', 'shrout',\n",
       "       'rank_cinvest', 'rank_rvar_capm', 'rank_mom36m', 'rank_zerotrade',\n",
       "       'rank_rna', 'rank_chtx', 'rank_pm', 'rank_depr', 'rank_cash',\n",
       "       'rank_me_ia', 'rank_adm', 'rank_bm_ia', 'rank_cashdebt',\n",
       "       'rank_mom12m', 'rank_baspread', 'rank_sp', 'rank_mom1m',\n",
       "       'rank_rvar_ff3', 'rank_ep', 'rank_dy', 'rank_re', 'rank_nincr',\n",
       "       'rank_rdm', 'rank_rsup', 'rank_lgr', 'rank_chpmia',\n",
       "       'rank_std_dolvol', 'rank_rd_sale', 'rank_beta', 'rank_rvar_mean',\n",
       "       'rank_mom60m', 'rank_chcsho', 'rank_roa', 'rank_acc', 'rank_ato',\n",
       "       'rank_sue', 'rank_op', 'rank_alm', 'rank_noa', 'rank_mom6m',\n",
       "       'rank_me', 'rank_cfp', 'rank_pscore', 'rank_seas1a', 'rank_roe',\n",
       "       'rank_maxret', 'rank_std_turn', 'rank_sgr', 'rank_grltnoa',\n",
       "       'rank_gma', 'rank_ni', 'rank_dolvol', 'rank_bm', 'rank_pctacc',\n",
       "       'rank_herf', 'rank_lev', 'rank_agr', 'rank_ill', 'rank_abr',\n",
       "       'rank_hire', 'rank_turn', 'log_me'], dtype=object)"
      ]
     },
     "execution_count": 40,
     "metadata": {},
     "output_type": "execute_result"
    }
   ],
   "source": [
    "df_rank_imputed.columns.values"
   ]
  },
  {
   "cell_type": "code",
   "execution_count": null,
   "metadata": {},
   "outputs": [],
   "source": []
  },
  {
   "cell_type": "code",
   "execution_count": null,
   "metadata": {},
   "outputs": [],
   "source": []
  },
  {
   "cell_type": "code",
   "execution_count": null,
   "metadata": {},
   "outputs": [],
   "source": []
  },
  {
   "cell_type": "code",
   "execution_count": null,
   "metadata": {},
   "outputs": [],
   "source": []
  },
  {
   "cell_type": "markdown",
   "metadata": {},
   "source": [
    "### Rank + Imputed"
   ]
  },
  {
   "cell_type": "code",
   "execution_count": 33,
   "metadata": {},
   "outputs": [],
   "source": [
    "for this_date in all_dates:\n",
    "    select_char = char[char['date'] == this_date]\n",
    "\n",
    "    # plot all the char\n",
    "    fig, axs = plt.subplots(subplot_x, 5, figsize=(20, int(3*subplot_x)))\n",
    "    fig.subplots_adjust(hspace=0.5, wspace=0.5)\n",
    "\n",
    "    for i, column in enumerate(rank_columns):\n",
    "        ax = axs[i // 5, i % 5]\n",
    "        ax.hist(select_char[column], bins=20, range=(-1, 1), edgecolor='black')\n",
    "        ax.set_title(f'char: {column}')\n",
    "        ax.set_xlabel('Values')\n",
    "        ax.set_ylabel('Frequency')\n",
    "    plt.savefig(f\"test_chars/char_plot_{str(this_date)[0:4]}_{str(this_date)[5:7]}.png\")\n",
    "    plt.show()\n",
    "    plt.close()"
   ]
  },
  {
   "cell_type": "markdown",
   "metadata": {},
   "source": [
    "### Raw + No impute"
   ]
  },
  {
   "cell_type": "code",
   "execution_count": null,
   "metadata": {},
   "outputs": [],
   "source": [
    "select_char = char_raw_no_impute[char_raw_no_impute['date'] == random_date]\n",
    "\n",
    "# plot all the char\n",
    "\n",
    "fig, axs = plt.subplots(subplot_x, 5, figsize=(20, int(3*subplot_x)))\n",
    "fig.subplots_adjust(hspace=0.5, wspace=0.5)\n",
    "\n",
    "for i, column in enumerate(char_list):\n",
    "    ax = axs[i // 5, i % 5]\n",
    "    ax.hist(select_char[column], bins=100, edgecolor='black') #, range=(-1, 1)\n",
    "    ax.set_title(f'char: {column}')\n",
    "    ax.set_xlabel('Values')\n",
    "    ax.set_ylabel('Frequency')\n",
    "plt.show()"
   ]
  },
  {
   "cell_type": "markdown",
   "metadata": {},
   "source": [
    "### Rank + No impute"
   ]
  },
  {
   "cell_type": "code",
   "execution_count": null,
   "metadata": {},
   "outputs": [],
   "source": [
    "select_char = char_rank_no_impute[char_rank_no_impute['date'] == random_date]\n",
    "\n",
    "# plot all the char\n",
    "fig, axs = plt.subplots(subplot_x, 5, figsize=(20, int(3*subplot_x)))\n",
    "fig.subplots_adjust(hspace=0.5, wspace=0.5)\n",
    "\n",
    "for i, column in enumerate(rank_columns):\n",
    "    ax = axs[i // 5, i % 5]\n",
    "    ax.hist(select_char[column], bins=20, edgecolor='black') # , range=(-1, 1)\n",
    "    ax.set_title(f'char: {column}')\n",
    "    ax.set_xlabel('Values')\n",
    "    ax.set_ylabel('Frequency')\n",
    "plt.show()"
   ]
  },
  {
   "cell_type": "code",
   "execution_count": null,
   "metadata": {},
   "outputs": [],
   "source": [
    "for this_date in all_dates:\n",
    "    select_char = char_rank_no_impute[char_rank_no_impute['date'] == this_date]\n",
    "\n",
    "    # plot all the char\n",
    "    fig, axs = plt.subplots(subplot_x, 5, figsize=(20, int(3*subplot_x)))\n",
    "    fig.subplots_adjust(hspace=0.5, wspace=0.5)\n",
    "\n",
    "    for i, column in enumerate(rank_columns):\n",
    "        ax = axs[i // 5, i % 5]\n",
    "        ax.hist(select_char[column], bins=20, range=(-1, 1), edgecolor='black')\n",
    "        ax.set_title(f'char: {column}')\n",
    "        ax.set_xlabel('Values')\n",
    "        ax.set_ylabel('Frequency')\n",
    "    plt.savefig(f\"test_rank_no_impute/char_plot_{str(this_date)[0:4]}_{str(this_date)[5:7]}.png\")\n",
    "    plt.show()\n",
    "    plt.close()"
   ]
  },
  {
   "cell_type": "markdown",
   "metadata": {},
   "source": [
    "### Raw + Imputed"
   ]
  },
  {
   "cell_type": "code",
   "execution_count": null,
   "metadata": {},
   "outputs": [],
   "source": [
    "select_char = char_raw_imputed[char_raw_imputed['date'] == random_date]\n",
    "\n",
    "# plot all the char\n",
    "\n",
    "fig, axs = plt.subplots(subplot_x, 5, figsize=(20, int(3*subplot_x)))\n",
    "fig.subplots_adjust(hspace=0.5, wspace=0.5)\n",
    "\n",
    "for i, column in enumerate(char_list):\n",
    "    ax = axs[i // 5, i % 5]\n",
    "    ax.hist(select_char[column], bins=20, edgecolor='black') # , range=(-1, 1)\n",
    "    ax.set_title(f'char: {column}')\n",
    "    ax.set_xlabel('Values')\n",
    "    ax.set_ylabel('Frequency')\n",
    "plt.show()"
   ]
  },
  {
   "cell_type": "code",
   "execution_count": null,
   "metadata": {},
   "outputs": [],
   "source": []
  },
  {
   "cell_type": "code",
   "execution_count": null,
   "metadata": {},
   "outputs": [],
   "source": [
    "chars60 = pd.read_feather(\"/home/yuanzhi/Tree_Prediction/data/update_rawdata/chars_data/chars60_rank_imputed.feather\")\n",
    "import random\n",
    "\n",
    "chars60['date'] = pd.to_datetime(chars60['date'])\n",
    "all_dates = chars60['date'].unique()\n",
    "\n",
    "# randomly find a date\n",
    "random_date = random.choice(all_dates)\n",
    "print(random_date)\n",
    "\n",
    "select_char = chars60[chars60['date'] == random_date]\n",
    "rank_columns = select_char.filter(like='rank').columns\n",
    "\n",
    "# plot all the char\n",
    "\n",
    "fig, axs = plt.subplots(math.ceil(len(rank_columns)/5), 5, figsize=(20, int(3*math.ceil(len(rank_columns)/5))))\n",
    "fig.subplots_adjust(hspace=0.5, wspace=0.5)\n",
    "\n",
    "for i, column in enumerate(rank_columns):\n",
    "    ax = axs[i // 5, i % 5]\n",
    "    ax.hist(select_char[column], bins=20, edgecolor='black') #, range=(-1, 1)\n",
    "    ax.set_title(f'char: {column}')\n",
    "    ax.set_xlabel('Values')\n",
    "    ax.set_ylabel('Frequency')\n",
    "plt.show()"
   ]
  },
  {
   "cell_type": "code",
   "execution_count": null,
   "metadata": {},
   "outputs": [],
   "source": [
    "# # Select columns that start with 'rank'\n",
    "# rank_columns = select_char.filter(like='rank')\n",
    "\n",
    "# # Randomly select a column\n",
    "# selected_column = random.choice(rank_columns.columns)\n",
    "\n",
    "# # Plot histogram for the selected column\n",
    "# plt.hist(select_char[selected_column], bins=20, range=(-1, 1), edgecolor='black')\n",
    "# plt.title(f'Histogram for column: {selected_column}')\n",
    "# plt.xlabel('Values')\n",
    "# plt.ylabel('Frequency')\n",
    "# plt.show()"
   ]
  },
  {
   "cell_type": "code",
   "execution_count": null,
   "metadata": {},
   "outputs": [],
   "source": [
    "# rank_columns = select_char.filter(like='rank')\n",
    "\n",
    "# # Plot histograms for each 'rank' column\n",
    "# for column in rank_columns:\n",
    "#     plt.figure(figsize=(6, 4))\n",
    "#     plt.hist(select_char[column], bins=20, range=(-1, 1), edgecolor='black')\n",
    "#     plt.title(f'Histogram for column: {column}')\n",
    "#     plt.xlabel('Values')\n",
    "#     plt.ylabel('Frequency')\n",
    "#     plt.show()"
   ]
  }
 ],
 "metadata": {
  "kernelspec": {
   "display_name": "base",
   "language": "python",
   "name": "python3"
  },
  "language_info": {
   "codemirror_mode": {
    "name": "ipython",
    "version": 3
   },
   "file_extension": ".py",
   "mimetype": "text/x-python",
   "name": "python",
   "nbconvert_exporter": "python",
   "pygments_lexer": "ipython3",
   "version": "3.11.3"
  }
 },
 "nbformat": 4,
 "nbformat_minor": 2
}
